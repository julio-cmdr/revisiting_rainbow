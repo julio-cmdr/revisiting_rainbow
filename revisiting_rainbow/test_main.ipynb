{
 "cells": [
  {
   "cell_type": "code",
   "execution_count": null,
   "metadata": {
    "executionInfo": {
     "elapsed": 40,
     "status": "ok",
     "timestamp": 1624221960467,
     "user": {
      "displayName": "Júlio Resende",
      "photoUrl": "https://lh3.googleusercontent.com/a-/AOh14Gg_9Tz9ux6cPZp3Wzw2Qxi-VSPeiR_k2rJlHvJgYg=s64",
      "userId": "14248518569254727552"
     },
     "user_tz": 180
    },
    "id": "IVzjoJRL8Ovi"
   },
   "outputs": [],
   "source": [
    "import numpy as np\n",
    "import os\n",
    "import sys\n",
    "import dopamine\n",
    "from dopamine.discrete_domains import run_experiment\n",
    "from dopamine.colab import utils as colab_utils\n",
    "from absl import flags\n",
    "import gin.tf\n",
    "import matplotlib\n",
    "#matplotlib.use('TKAgg')"
   ]
  },
  {
   "cell_type": "code",
   "execution_count": null,
   "metadata": {
    "colab": {
     "base_uri": "https://localhost:8080/"
    },
    "executionInfo": {
     "elapsed": 1539,
     "status": "ok",
     "timestamp": 1624221961971,
     "user": {
      "displayName": "Júlio Resende",
      "photoUrl": "https://lh3.googleusercontent.com/a-/AOh14Gg_9Tz9ux6cPZp3Wzw2Qxi-VSPeiR_k2rJlHvJgYg=s64",
      "userId": "14248518569254727552"
     },
     "user_tz": 180
    },
    "id": "H7Skt7G2LDOJ",
    "outputId": "20adee4d-7a8c-4313-f162-ab56ae40ef2b"
   },
   "outputs": [],
   "source": [
    "path = 'logs_and_checkpoints'\n",
    "LOG_PATH = os.path.join(path, 'dqn_test')\n",
    "sys.path.append(path)"
   ]
  },
  {
   "cell_type": "code",
   "execution_count": null,
   "metadata": {
    "executionInfo": {
     "elapsed": 7,
     "status": "ok",
     "timestamp": 1624221961972,
     "user": {
      "displayName": "Júlio Resende",
      "photoUrl": "https://lh3.googleusercontent.com/a-/AOh14Gg_9Tz9ux6cPZp3Wzw2Qxi-VSPeiR_k2rJlHvJgYg=s64",
      "userId": "14248518569254727552"
     },
     "user_tz": 180
    },
    "id": "KxNfCIy4MKuB"
   },
   "outputs": [],
   "source": [
    "from Agents.dqn_agent_new import*\n",
    "#from rainbow_agent_new import*\n",
    "#from quantile_agent_new import*\n",
    "#from implicit_quantile_agent_new import*"
   ]
  },
  {
   "cell_type": "code",
   "execution_count": null,
   "metadata": {
    "colab": {
     "base_uri": "https://localhost:8080/"
    },
    "executionInfo": {
     "elapsed": 3211,
     "status": "ok",
     "timestamp": 1624221965178,
     "user": {
      "displayName": "Júlio Resende",
      "photoUrl": "https://lh3.googleusercontent.com/a-/AOh14Gg_9Tz9ux6cPZp3Wzw2Qxi-VSPeiR_k2rJlHvJgYg=s64",
      "userId": "14248518569254727552"
     },
     "user_tz": 180
    },
    "id": "5rVXXtYF8TXw",
    "outputId": "ef848600-cd18-4367-b05e-2fd1ddaaad60"
   },
   "outputs": [],
   "source": [
    "def create_random_dqn_agent(sess, environment, summary_writer=None):\n",
    "  \"\"\"The Runner class will expect a function of this type to create an agent.\"\"\"\n",
    "  return JaxDQNAgentNew(num_actions=environment.action_space.n)\n",
    "  #return JaxRainbowAgentNew(num_actions=environment.action_space.n)\n",
    "  #return JaxQuantileAgentNew(num_actions=environment.action_space.n)\n",
    "  #return JaxImplicitQuantileAgentNew(num_actions=environment.action_space.n)\n",
    " \n",
    "gin.parse_config_file('Configs/dqn_invaders.gin')\n",
    "\n",
    "random_dqn_runner = run_experiment.TrainRunner(LOG_PATH, create_random_dqn_agent)"
   ]
  },
  {
   "cell_type": "code",
   "execution_count": null,
   "metadata": {},
   "outputs": [],
   "source": [
    "from datetime import datetime\n",
    "\n",
    "now = datetime.now() \n",
    "print(\"now =\", now)"
   ]
  },
  {
   "cell_type": "code",
   "execution_count": null,
   "metadata": {
    "colab": {
     "base_uri": "https://localhost:8080/"
    },
    "id": "VdnU1lV-8wY_",
    "outputId": "6282d8a6-5810-40e7-f18e-994bf80d3357",
    "scrolled": true
   },
   "outputs": [],
   "source": [
    "print('Will train agent, please be patient, may be a while...')\n",
    "random_dqn_runner.run_experiment()\n",
    "print('Done training!')"
   ]
  },
  {
   "cell_type": "code",
   "execution_count": null,
   "metadata": {},
   "outputs": [],
   "source": [
    "now = datetime.now()\n",
    " \n",
    "print(\"now =\", now)"
   ]
  },
  {
   "cell_type": "code",
   "execution_count": null,
   "metadata": {
    "id": "T-jcjIatI0EL"
   },
   "outputs": [],
   "source": [
    "import seaborn as sns\n",
    "import matplotlib.pyplot as plt\n",
    "\n",
    "data = colab_utils.read_experiment('dqn_test', verbose=True, summary_keys=['train_episode_returns'])\n",
    "data['agent'] = 'SpaceInvaders'\n",
    "data['run'] = 1\n",
    "\n",
    "fig, ax = plt.subplots(figsize=(16,8))\n",
    "sns.lineplot(x='iteration', y='train_episode_returns',  data=data, ax=ax)\n",
    "plt.title('SpaceInvaders')\n",
    "plt.show()"
   ]
  }
 ],
 "metadata": {
  "colab": {
   "collapsed_sections": [],
   "name": "test_main.ipynb",
   "provenance": []
  },
  "kernelspec": {
   "display_name": "Python 3",
   "language": "python",
   "name": "python3"
  },
  "language_info": {
   "codemirror_mode": {
    "name": "ipython",
    "version": 3
   },
   "file_extension": ".py",
   "mimetype": "text/x-python",
   "name": "python",
   "nbconvert_exporter": "python",
   "pygments_lexer": "ipython3",
   "version": "3.8.10"
  }
 },
 "nbformat": 4,
 "nbformat_minor": 1
}
